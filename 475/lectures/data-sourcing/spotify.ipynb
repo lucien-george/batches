{
 "cells": [
  {
   "cell_type": "markdown",
   "metadata": {},
   "source": [
    "# Spotify"
   ]
  },
  {
   "cell_type": "code",
   "execution_count": 17,
   "metadata": {},
   "outputs": [
    {
     "name": "stdout",
     "output_type": "stream",
     "text": [
      "The autoreload extension is already loaded. To reload it, use:\n",
      "  %reload_ext autoreload\n"
     ]
    }
   ],
   "source": [
    "import matplotlib\n",
    "%matplotlib inline\n",
    "import numpy as np\n",
    "import pandas as pd\n",
    "import time\n",
    "%load_ext autoreload\n",
    "%autoreload 2"
   ]
  },
  {
   "cell_type": "code",
   "execution_count": 2,
   "metadata": {},
   "outputs": [],
   "source": [
    "tracks_df = pd.read_csv('data/spotify_2017.csv')"
   ]
  },
  {
   "cell_type": "code",
   "execution_count": 3,
   "metadata": {},
   "outputs": [],
   "source": [
    "tracks_df = tracks_df[['name', 'artists']]"
   ]
  },
  {
   "cell_type": "code",
   "execution_count": 4,
   "metadata": {},
   "outputs": [
    {
     "data": {
      "text/html": [
       "<div>\n",
       "<style scoped>\n",
       "    .dataframe tbody tr th:only-of-type {\n",
       "        vertical-align: middle;\n",
       "    }\n",
       "\n",
       "    .dataframe tbody tr th {\n",
       "        vertical-align: top;\n",
       "    }\n",
       "\n",
       "    .dataframe thead th {\n",
       "        text-align: right;\n",
       "    }\n",
       "</style>\n",
       "<table border=\"1\" class=\"dataframe\">\n",
       "  <thead>\n",
       "    <tr style=\"text-align: right;\">\n",
       "      <th></th>\n",
       "      <th>name</th>\n",
       "      <th>artists</th>\n",
       "    </tr>\n",
       "  </thead>\n",
       "  <tbody>\n",
       "    <tr>\n",
       "      <th>0</th>\n",
       "      <td>Shape of You</td>\n",
       "      <td>Ed Sheeran</td>\n",
       "    </tr>\n",
       "    <tr>\n",
       "      <th>1</th>\n",
       "      <td>Despacito - Remix</td>\n",
       "      <td>Luis Fonsi</td>\n",
       "    </tr>\n",
       "    <tr>\n",
       "      <th>2</th>\n",
       "      <td>Despacito (Featuring Daddy Yankee)</td>\n",
       "      <td>Luis Fonsi</td>\n",
       "    </tr>\n",
       "    <tr>\n",
       "      <th>3</th>\n",
       "      <td>Something Just Like This</td>\n",
       "      <td>The Chainsmokers</td>\n",
       "    </tr>\n",
       "    <tr>\n",
       "      <th>4</th>\n",
       "      <td>I'm the One</td>\n",
       "      <td>DJ Khaled</td>\n",
       "    </tr>\n",
       "  </tbody>\n",
       "</table>\n",
       "</div>"
      ],
      "text/plain": [
       "                                 name           artists\n",
       "0                        Shape of You        Ed Sheeran\n",
       "1                   Despacito - Remix        Luis Fonsi\n",
       "2  Despacito (Featuring Daddy Yankee)        Luis Fonsi\n",
       "3            Something Just Like This  The Chainsmokers\n",
       "4                         I'm the One         DJ Khaled"
      ]
     },
     "execution_count": 4,
     "metadata": {},
     "output_type": "execute_result"
    }
   ],
   "source": [
    "tracks_df.head()"
   ]
  },
  {
   "cell_type": "code",
   "execution_count": 5,
   "metadata": {},
   "outputs": [
    {
     "data": {
      "text/plain": [
       "(100, 2)"
      ]
     },
     "execution_count": 5,
     "metadata": {},
     "output_type": "execute_result"
    }
   ],
   "source": [
    "tracks_df.shape"
   ]
  },
  {
   "cell_type": "markdown",
   "metadata": {},
   "source": [
    "### Fetching lyrics from apiseeds API"
   ]
  },
  {
   "cell_type": "code",
   "execution_count": 6,
   "metadata": {},
   "outputs": [],
   "source": [
    "from music import fetch_lyrics"
   ]
  },
  {
   "cell_type": "code",
   "execution_count": 8,
   "metadata": {},
   "outputs": [
    {
     "data": {
      "text/plain": [
       "''"
      ]
     },
     "execution_count": 8,
     "metadata": {},
     "output_type": "execute_result"
    }
   ],
   "source": [
    "fetch_lyrics('ed sheeran', 'shape of ydebcxuenxwouncencec')"
   ]
  },
  {
   "cell_type": "code",
   "execution_count": 9,
   "metadata": {},
   "outputs": [],
   "source": [
    "tracks_df['lyrics'] = ''"
   ]
  },
  {
   "cell_type": "code",
   "execution_count": 10,
   "metadata": {},
   "outputs": [
    {
     "data": {
      "text/html": [
       "<div>\n",
       "<style scoped>\n",
       "    .dataframe tbody tr th:only-of-type {\n",
       "        vertical-align: middle;\n",
       "    }\n",
       "\n",
       "    .dataframe tbody tr th {\n",
       "        vertical-align: top;\n",
       "    }\n",
       "\n",
       "    .dataframe thead th {\n",
       "        text-align: right;\n",
       "    }\n",
       "</style>\n",
       "<table border=\"1\" class=\"dataframe\">\n",
       "  <thead>\n",
       "    <tr style=\"text-align: right;\">\n",
       "      <th></th>\n",
       "      <th>name</th>\n",
       "      <th>artists</th>\n",
       "      <th>lyrics</th>\n",
       "    </tr>\n",
       "  </thead>\n",
       "  <tbody>\n",
       "    <tr>\n",
       "      <th>0</th>\n",
       "      <td>Shape of You</td>\n",
       "      <td>Ed Sheeran</td>\n",
       "      <td></td>\n",
       "    </tr>\n",
       "    <tr>\n",
       "      <th>1</th>\n",
       "      <td>Despacito - Remix</td>\n",
       "      <td>Luis Fonsi</td>\n",
       "      <td></td>\n",
       "    </tr>\n",
       "    <tr>\n",
       "      <th>2</th>\n",
       "      <td>Despacito (Featuring Daddy Yankee)</td>\n",
       "      <td>Luis Fonsi</td>\n",
       "      <td></td>\n",
       "    </tr>\n",
       "    <tr>\n",
       "      <th>3</th>\n",
       "      <td>Something Just Like This</td>\n",
       "      <td>The Chainsmokers</td>\n",
       "      <td></td>\n",
       "    </tr>\n",
       "    <tr>\n",
       "      <th>4</th>\n",
       "      <td>I'm the One</td>\n",
       "      <td>DJ Khaled</td>\n",
       "      <td></td>\n",
       "    </tr>\n",
       "  </tbody>\n",
       "</table>\n",
       "</div>"
      ],
      "text/plain": [
       "                                 name           artists lyrics\n",
       "0                        Shape of You        Ed Sheeran       \n",
       "1                   Despacito - Remix        Luis Fonsi       \n",
       "2  Despacito (Featuring Daddy Yankee)        Luis Fonsi       \n",
       "3            Something Just Like This  The Chainsmokers       \n",
       "4                         I'm the One         DJ Khaled       "
      ]
     },
     "execution_count": 10,
     "metadata": {},
     "output_type": "execute_result"
    }
   ],
   "source": [
    "tracks_df.head()"
   ]
  },
  {
   "cell_type": "code",
   "execution_count": 19,
   "metadata": {},
   "outputs": [
    {
     "name": "stdout",
     "output_type": "stream",
     "text": [
      "Shape of You Ed Sheeran\n",
      "Despacito - Remix Luis Fonsi\n",
      "Despacito (Featuring Daddy Yankee) Luis Fonsi\n",
      "Something Just Like This The Chainsmokers\n",
      "I'm the One DJ Khaled\n",
      "HUMBLE. Kendrick Lamar\n",
      "It Ain't Me (with Selena Gomez) Kygo\n",
      "Unforgettable French Montana\n",
      "That's What I Like Bruno Mars\n",
      "I Don’t Wanna Live Forever (Fifty Shades Darker) - From \"Fifty Shades Darker (Original Motion Picture Soundtrack)\" ZAYN\n",
      "XO TOUR Llif3 Lil Uzi Vert\n",
      "Paris The Chainsmokers\n",
      "Stay (with Alessia Cara) Zedd\n",
      "Attention Charlie Puth\n",
      "Mask Off Future\n",
      "Congratulations Post Malone\n",
      "Swalla (feat. Nicki Minaj & Ty Dolla $ign) Jason Derulo\n",
      "Castle on the Hill Ed Sheeran\n",
      "Rockabye (feat. Sean Paul & Anne-Marie) Clean Bandit\n",
      "Believer Imagine Dragons\n",
      "Mi Gente J Balvin\n",
      "Thunder Imagine Dragons\n",
      "Say You Won't Let Go James Arthur\n",
      "There's Nothing Holdin' Me Back Shawn Mendes\n",
      "Me Rehúso Danny Ocean\n",
      "Issues Julia Michaels\n",
      "Galway Girl Ed Sheeran\n",
      "Scared to Be Lonely Martin Garrix\n",
      "Closer The Chainsmokers\n",
      "Symphony (feat. Zara Larsson) Clean Bandit\n",
      "I Feel It Coming The Weeknd\n",
      "Starboy The Weeknd\n",
      "Wild Thoughts DJ Khaled\n",
      "Slide Calvin Harris\n",
      "New Rules Dua Lipa\n",
      "1-800-273-8255 Logic\n",
      "Passionfruit Drake\n",
      "rockstar Post Malone\n",
      "Strip That Down Liam Payne\n",
      "2U (feat. Justin Bieber) David Guetta\n",
      "Perfect Ed Sheeran\n",
      "Call On Me - Ryan Riback Extended Remix Starley\n",
      "Feels Calvin Harris\n",
      "Mama Jonas Blue\n",
      "Felices los 4 Maluma\n",
      "iSpy (feat. Lil Yachty) KYLE\n",
      "Location Khalid\n",
      "Chantaje Shakira\n",
      "Bad and Boujee (feat. Lil Uzi Vert) Migos\n",
      "Havana Camila Cabello\n",
      "Solo Dance Martin Jensen\n",
      "Fake Love Drake\n",
      "Let Me Love You DJ Snake\n",
      "More Than You Know Axwell Ingrosso\n",
      "One Dance Drake\n",
      "SUBEME LA RADIO Enrique Iglesias\n",
      "Pretty Girl - Cheat Codes X CADE Remix Maggie Lindemann\n",
      "Sorry Not Sorry Demi Lovato\n",
      "Redbone Childish Gambino\n",
      "24K Magic Bruno Mars\n",
      "DNA. Kendrick Lamar\n",
      "El Amante Nicky Jam\n",
      "You Don't Know Me - Radio Edit Jax Jones\n",
      "Chained To The Rhythm Katy Perry\n",
      "No Promises (feat. Demi Lovato) Cheat Codes\n",
      "Don't Wanna Know (feat. Kendrick Lamar) Maroon 5\n",
      "How Far I'll Go - From \"Moana\" Alessia Cara\n",
      "Slow Hands Niall Horan\n",
      "Escápate Conmigo Wisin\n",
      "Bounce Back Big Sean\n",
      "Sign of the Times Harry Styles\n",
      "goosebumps Travis Scott\n",
      "Young Dumb & Broke Khalid\n",
      "There for You Martin Garrix\n",
      "Cold (feat. Future) Maroon 5\n",
      "Silence Marshmello\n",
      "Too Good At Goodbyes Sam Smith\n",
      "Just Hold On Steve Aoki\n",
      "Look What You Made Me Do Taylor Swift\n",
      "Glorious (feat. Skylar Grey) Macklemore\n",
      "Starving Hailee Steinfeld\n",
      "Reggaetón Lento (Bailemos) CNCO\n",
      "Weak AJR\n",
      "Side To Side Ariana Grande\n",
      "Otra Vez (feat. J Balvin) Zion & Lennox\n",
      "I Like Me Better Lauv\n",
      "In the Name of Love Martin Garrix\n",
      "Cold Water (feat. Justin Bieber & MØ) Major Lazer\n",
      "Malibu Miley Cyrus\n",
      "All Night The Vamps\n",
      "Hear Me Now Alok\n",
      "Your Song Rita Ora\n",
      "Ahora Dice Chris Jeday\n",
      "Friends (with BloodPop®) Justin Bieber\n",
      "Bank Account 21 Savage\n",
      "Bad Things (with Camila Cabello) Machine Gun Kelly\n",
      "Don't Let Me Down The Chainsmokers\n",
      "Body Like A Back Road Sam Hunt\n",
      "Now Or Never Halsey\n",
      "Dusk Till Dawn - Radio Edit ZAYN\n",
      "CPU times: user 2.16 s, sys: 215 ms, total: 2.37 s\n",
      "Wall time: 1min 59s\n"
     ]
    }
   ],
   "source": [
    "%%time\n",
    "for index, row in tracks_df.iterrows():\n",
    "    print(row['name'], row['artists'])\n",
    "    lyrics = fetch_lyrics(row['artists'], row['name'])\n",
    "    tracks_df.loc[index, 'lyrics'] = lyrics\n",
    "    time.sleep(0.7)"
   ]
  },
  {
   "cell_type": "code",
   "execution_count": 21,
   "metadata": {},
   "outputs": [
    {
     "data": {
      "text/html": [
       "<div>\n",
       "<style scoped>\n",
       "    .dataframe tbody tr th:only-of-type {\n",
       "        vertical-align: middle;\n",
       "    }\n",
       "\n",
       "    .dataframe tbody tr th {\n",
       "        vertical-align: top;\n",
       "    }\n",
       "\n",
       "    .dataframe thead th {\n",
       "        text-align: right;\n",
       "    }\n",
       "</style>\n",
       "<table border=\"1\" class=\"dataframe\">\n",
       "  <thead>\n",
       "    <tr style=\"text-align: right;\">\n",
       "      <th></th>\n",
       "      <th>name</th>\n",
       "      <th>artists</th>\n",
       "      <th>lyrics</th>\n",
       "    </tr>\n",
       "  </thead>\n",
       "  <tbody>\n",
       "    <tr>\n",
       "      <th>0</th>\n",
       "      <td>Shape of You</td>\n",
       "      <td>Ed Sheeran</td>\n",
       "      <td>The club isn't the best place to find a lover\\...</td>\n",
       "    </tr>\n",
       "    <tr>\n",
       "      <th>1</th>\n",
       "      <td>Despacito - Remix</td>\n",
       "      <td>Luis Fonsi</td>\n",
       "      <td>Come on over in my direction \\r\\nSo thankful f...</td>\n",
       "    </tr>\n",
       "    <tr>\n",
       "      <th>2</th>\n",
       "      <td>Despacito (Featuring Daddy Yankee)</td>\n",
       "      <td>Luis Fonsi</td>\n",
       "      <td>Ay\\nFonsi\\nDy\\nOh oh\\nOh no, oh no\\nOh\\nYeah\\n...</td>\n",
       "    </tr>\n",
       "    <tr>\n",
       "      <th>3</th>\n",
       "      <td>Something Just Like This</td>\n",
       "      <td>The Chainsmokers</td>\n",
       "      <td>I've been reading books of old\\r\\nThe legends ...</td>\n",
       "    </tr>\n",
       "    <tr>\n",
       "      <th>4</th>\n",
       "      <td>I'm the One</td>\n",
       "      <td>DJ Khaled</td>\n",
       "      <td></td>\n",
       "    </tr>\n",
       "    <tr>\n",
       "      <th>5</th>\n",
       "      <td>HUMBLE.</td>\n",
       "      <td>Kendrick Lamar</td>\n",
       "      <td>[Intro]\\nWicked or weakness\\nYou gotta see thi...</td>\n",
       "    </tr>\n",
       "    <tr>\n",
       "      <th>6</th>\n",
       "      <td>It Ain't Me (with Selena Gomez)</td>\n",
       "      <td>Kygo</td>\n",
       "      <td>I had a dream\\nWe were sipping whisky neat\\nHi...</td>\n",
       "    </tr>\n",
       "    <tr>\n",
       "      <th>7</th>\n",
       "      <td>Unforgettable</td>\n",
       "      <td>French Montana</td>\n",
       "      <td>It's not good enough for me, since I been with...</td>\n",
       "    </tr>\n",
       "    <tr>\n",
       "      <th>8</th>\n",
       "      <td>That's What I Like</td>\n",
       "      <td>Bruno Mars</td>\n",
       "      <td>I got a condo in manhattan\\nBaby girl, what's ...</td>\n",
       "    </tr>\n",
       "    <tr>\n",
       "      <th>9</th>\n",
       "      <td>I Don’t Wanna Live Forever (Fifty Shades Darke...</td>\n",
       "      <td>ZAYN</td>\n",
       "      <td></td>\n",
       "    </tr>\n",
       "  </tbody>\n",
       "</table>\n",
       "</div>"
      ],
      "text/plain": [
       "                                                name           artists  \\\n",
       "0                                       Shape of You        Ed Sheeran   \n",
       "1                                  Despacito - Remix        Luis Fonsi   \n",
       "2                 Despacito (Featuring Daddy Yankee)        Luis Fonsi   \n",
       "3                           Something Just Like This  The Chainsmokers   \n",
       "4                                        I'm the One         DJ Khaled   \n",
       "5                                            HUMBLE.    Kendrick Lamar   \n",
       "6                    It Ain't Me (with Selena Gomez)              Kygo   \n",
       "7                                      Unforgettable    French Montana   \n",
       "8                                 That's What I Like        Bruno Mars   \n",
       "9  I Don’t Wanna Live Forever (Fifty Shades Darke...              ZAYN   \n",
       "\n",
       "                                              lyrics  \n",
       "0  The club isn't the best place to find a lover\\...  \n",
       "1  Come on over in my direction \\r\\nSo thankful f...  \n",
       "2  Ay\\nFonsi\\nDy\\nOh oh\\nOh no, oh no\\nOh\\nYeah\\n...  \n",
       "3  I've been reading books of old\\r\\nThe legends ...  \n",
       "4                                                     \n",
       "5  [Intro]\\nWicked or weakness\\nYou gotta see thi...  \n",
       "6  I had a dream\\nWe were sipping whisky neat\\nHi...  \n",
       "7  It's not good enough for me, since I been with...  \n",
       "8  I got a condo in manhattan\\nBaby girl, what's ...  \n",
       "9                                                     "
      ]
     },
     "execution_count": 21,
     "metadata": {},
     "output_type": "execute_result"
    }
   ],
   "source": [
    "tracks_df.head(10)"
   ]
  },
  {
   "cell_type": "code",
   "execution_count": null,
   "metadata": {},
   "outputs": [],
   "source": []
  }
 ],
 "metadata": {
  "kernelspec": {
   "display_name": "Python 3",
   "language": "python",
   "name": "python3"
  },
  "language_info": {
   "codemirror_mode": {
    "name": "ipython",
    "version": 3
   },
   "file_extension": ".py",
   "mimetype": "text/x-python",
   "name": "python",
   "nbconvert_exporter": "python",
   "pygments_lexer": "ipython3",
   "version": "3.7.7"
  }
 },
 "nbformat": 4,
 "nbformat_minor": 4
}
