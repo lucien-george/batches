{
 "cells": [
  {
   "cell_type": "markdown",
   "metadata": {},
   "source": [
    "# Spotify"
   ]
  },
  {
   "cell_type": "code",
   "execution_count": 1,
   "metadata": {},
   "outputs": [],
   "source": [
    "import matplotlib\n",
    "%matplotlib inline\n",
    "import numpy as np\n",
    "import pandas as pd"
   ]
  },
  {
   "cell_type": "code",
   "execution_count": 2,
   "metadata": {},
   "outputs": [],
   "source": [
    "tracks_df = pd.read_csv('data/spotify_2017.csv')"
   ]
  },
  {
   "cell_type": "code",
   "execution_count": 3,
   "metadata": {},
   "outputs": [],
   "source": [
    "tracks_df = tracks_df[['name', 'artists']]"
   ]
  },
  {
   "cell_type": "code",
   "execution_count": 4,
   "metadata": {},
   "outputs": [
    {
     "data": {
      "text/html": [
       "<div>\n",
       "<style scoped>\n",
       "    .dataframe tbody tr th:only-of-type {\n",
       "        vertical-align: middle;\n",
       "    }\n",
       "\n",
       "    .dataframe tbody tr th {\n",
       "        vertical-align: top;\n",
       "    }\n",
       "\n",
       "    .dataframe thead th {\n",
       "        text-align: right;\n",
       "    }\n",
       "</style>\n",
       "<table border=\"1\" class=\"dataframe\">\n",
       "  <thead>\n",
       "    <tr style=\"text-align: right;\">\n",
       "      <th></th>\n",
       "      <th>name</th>\n",
       "      <th>artists</th>\n",
       "    </tr>\n",
       "  </thead>\n",
       "  <tbody>\n",
       "    <tr>\n",
       "      <th>0</th>\n",
       "      <td>Shape of You</td>\n",
       "      <td>Ed Sheeran</td>\n",
       "    </tr>\n",
       "    <tr>\n",
       "      <th>1</th>\n",
       "      <td>Despacito - Remix</td>\n",
       "      <td>Luis Fonsi</td>\n",
       "    </tr>\n",
       "    <tr>\n",
       "      <th>2</th>\n",
       "      <td>Despacito (Featuring Daddy Yankee)</td>\n",
       "      <td>Luis Fonsi</td>\n",
       "    </tr>\n",
       "    <tr>\n",
       "      <th>3</th>\n",
       "      <td>Something Just Like This</td>\n",
       "      <td>The Chainsmokers</td>\n",
       "    </tr>\n",
       "    <tr>\n",
       "      <th>4</th>\n",
       "      <td>I'm the One</td>\n",
       "      <td>DJ Khaled</td>\n",
       "    </tr>\n",
       "  </tbody>\n",
       "</table>\n",
       "</div>"
      ],
      "text/plain": [
       "                                 name           artists\n",
       "0                        Shape of You        Ed Sheeran\n",
       "1                   Despacito - Remix        Luis Fonsi\n",
       "2  Despacito (Featuring Daddy Yankee)        Luis Fonsi\n",
       "3            Something Just Like This  The Chainsmokers\n",
       "4                         I'm the One         DJ Khaled"
      ]
     },
     "execution_count": 4,
     "metadata": {},
     "output_type": "execute_result"
    }
   ],
   "source": [
    "tracks_df.head()"
   ]
  },
  {
   "cell_type": "code",
   "execution_count": 5,
   "metadata": {},
   "outputs": [
    {
     "data": {
      "text/plain": [
       "(100, 2)"
      ]
     },
     "execution_count": 5,
     "metadata": {},
     "output_type": "execute_result"
    }
   ],
   "source": [
    "tracks_df.shape"
   ]
  },
  {
   "cell_type": "markdown",
   "metadata": {},
   "source": [
    "### Fetching lyrics from apiseeds API"
   ]
  },
  {
   "cell_type": "code",
   "execution_count": 8,
   "metadata": {},
   "outputs": [],
   "source": [
    "from music import fetch_lyrics"
   ]
  },
  {
   "cell_type": "code",
   "execution_count": 9,
   "metadata": {},
   "outputs": [
    {
     "data": {
      "text/plain": [
       "\"The club isn't the best place to find a lover\\nSo the bar is where I go\\nMe and my friends at the table doing shots\\nDrinking faster and then we talk slow\\nCome over and start up a conversation with just me\\nAnd trust me I'll give it a chance now\\nTake my hand, stop\\nPut Van The Man on the jukebox\\nAnd then we start to dance\\nAnd now I'm singing like\\n\\nGirl, you know I want your love\\nYour love was handmade for somebody like me\\nCome on now, follow my lead\\nI may be crazy, don't mind me\\nSay, boy, let's not talk too much\\nGrab on my waist and put that body on me\\nCome on now, follow my lead\\nCome, come on now, follow my lead\\n\\nI'm in love with the shape of you\\nWe push and pull like a magnet do\\nAlthough my heart is falling too\\nI'm in love with your body\\nLast night you were in my room\\nAnd now my bedsheets smell like you\\nEvery day discovering something brand new\\nI'm in love with your body\\nOh-I-oh-I-oh-I-oh-I\\nI'm in love with your body\\nOh-I-oh-I-oh-I-oh-I\\nI'm in love with your body\\nOh-I-oh-I-oh-I-oh-I\\nI'm in love with your body\\nEvery day discovering something brand new\\nI'm in love with the shape of you\\n\\nOne week in we let the story begin\\nWe're going out on our first date\\nYou and me are thrifty\\nSo go all you can eat\\nFill up your bag and I fill up a plate\\nWe talk for hours and hours about the sweet and the sour\\nAnd how your family is doing okay\\nLeave and get in a taxi, then kiss in the backseat\\nTell the driver make the radio play\\nAnd I'm singing like\\n\\nGirl, you know I want your love\\nYour love was handmade for somebody like me\\nCome on now, follow my lead\\nI may be crazy, don't mind me\\nSay, boy, let's not talk too much\\nGrab on my waist and put that body on me\\nCome on now, follow my lead\\nCome, come on now, follow my lead\\n\\nI'm in love with the shape of you\\nWe push and pull like a magnet do\\nAlthough my heart is falling too\\nI'm in love with your body\\nLast night you were in my room\\nAnd now my bedsheets smell like you\\nEvery day discovering something brand new\\nI'm in love with your body\\nOh-I-oh-I-oh-I-oh-I\\nI'm in love with your body\\nOh-I-oh-I-oh-I-oh-I\\nI'm in love with your body\\nOh-I-oh-I-oh-I-oh-I\\nI'm in love with your body\\nEvery day discovering something brand new\\nI'm in love with the shape of you\\n\\nCome on, be my baby, come on\\nCome on, be my baby, come on\\nCome on, be my baby, come on\\nCome on, be my baby, come on\\nCome on, be my baby, come on\\nCome on, be my baby, come on\\nCome on, be my baby, come on\\nCome on, be my baby, come on\\n\\nI'm in love with the shape of you\\nWe push and pull like a magnet do\\nAlthough my heart is falling too\\nI'm in love with your body\\nLast night you were in my room\\nAnd now my bedsheets smell like you\\nEvery day discovering something brand new\\nI'm in love with your body\\nCome on, be my baby, come on\\nCome on, be my baby, come on\\nI'm in love with your body\\nCome on, be my baby, come on\\nCome on, be my baby, come on\\nI'm in love with your body\\nCome on, be my baby, come on\\nCome on, be my baby, come on\\nI'm in love with your body\\nEvery day discovering something brand new\\nI'm in love with the shape of you\""
      ]
     },
     "execution_count": 9,
     "metadata": {},
     "output_type": "execute_result"
    }
   ],
   "source": [
    "fetch_lyrics('ed sheeran', 'shape of you')"
   ]
  },
  {
   "cell_type": "code",
   "execution_count": null,
   "metadata": {},
   "outputs": [],
   "source": []
  }
 ],
 "metadata": {
  "kernelspec": {
   "display_name": "Python 3",
   "language": "python",
   "name": "python3"
  },
  "language_info": {
   "codemirror_mode": {
    "name": "ipython",
    "version": 3
   },
   "file_extension": ".py",
   "mimetype": "text/x-python",
   "name": "python",
   "nbconvert_exporter": "python",
   "pygments_lexer": "ipython3",
   "version": "3.7.7"
  }
 },
 "nbformat": 4,
 "nbformat_minor": 4
}
