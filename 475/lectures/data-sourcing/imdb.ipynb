{
 "cells": [
  {
   "cell_type": "code",
   "execution_count": 1,
   "metadata": {},
   "outputs": [],
   "source": [
    "import re\n",
    "import requests\n",
    "import pandas as pd\n",
    "from bs4 import BeautifulSoup"
   ]
  },
  {
   "cell_type": "code",
   "execution_count": 2,
   "metadata": {},
   "outputs": [],
   "source": [
    "response = requests.get(\"https://www.imdb.com/list/ls055386972/\", headers={\"Accept-Language\":\"en-US\"})\n",
    "soup = BeautifulSoup(response.content, \"html.parser\")"
   ]
  },
  {
   "cell_type": "code",
   "execution_count": 3,
   "metadata": {},
   "outputs": [
    {
     "name": "stdout",
     "output_type": "stream",
     "text": [
      "{'title': 'The Godfather', 'duration': 175, 'year': 1972}\n"
     ]
    }
   ],
   "source": [
    "movies = []\n",
    "for movie in soup.find_all(\"div\", class_=\"lister-item-content\"):\n",
    "    title = movie.find(\"h3\").find(\"a\").string\n",
    "    duration = int(movie.find(class_=\"runtime\").string.strip(' min'))\n",
    "    year = int(re.search(r\"\\d{4}\", movie.find(class_=\"lister-item-year\").string).group(0))\n",
    "    movies.append({'title': title, 'duration': duration, 'year': year})\n",
    "print(movies[0])"
   ]
  },
  {
   "cell_type": "code",
   "execution_count": 4,
   "metadata": {},
   "outputs": [],
   "source": [
    "movies_df = pd.DataFrame(movies)"
   ]
  },
  {
   "cell_type": "code",
   "execution_count": 5,
   "metadata": {},
   "outputs": [
    {
     "data": {
      "text/html": [
       "<div>\n",
       "<style scoped>\n",
       "    .dataframe tbody tr th:only-of-type {\n",
       "        vertical-align: middle;\n",
       "    }\n",
       "\n",
       "    .dataframe tbody tr th {\n",
       "        vertical-align: top;\n",
       "    }\n",
       "\n",
       "    .dataframe thead th {\n",
       "        text-align: right;\n",
       "    }\n",
       "</style>\n",
       "<table border=\"1\" class=\"dataframe\">\n",
       "  <thead>\n",
       "    <tr style=\"text-align: right;\">\n",
       "      <th></th>\n",
       "      <th>duration</th>\n",
       "      <th>title</th>\n",
       "      <th>year</th>\n",
       "    </tr>\n",
       "  </thead>\n",
       "  <tbody>\n",
       "    <tr>\n",
       "      <th>0</th>\n",
       "      <td>175</td>\n",
       "      <td>The Godfather</td>\n",
       "      <td>1972</td>\n",
       "    </tr>\n",
       "    <tr>\n",
       "      <th>1</th>\n",
       "      <td>195</td>\n",
       "      <td>Schindler's List</td>\n",
       "      <td>1993</td>\n",
       "    </tr>\n",
       "    <tr>\n",
       "      <th>2</th>\n",
       "      <td>96</td>\n",
       "      <td>12 Angry Men</td>\n",
       "      <td>1957</td>\n",
       "    </tr>\n",
       "    <tr>\n",
       "      <th>3</th>\n",
       "      <td>116</td>\n",
       "      <td>Life Is Beautiful</td>\n",
       "      <td>1997</td>\n",
       "    </tr>\n",
       "    <tr>\n",
       "      <th>4</th>\n",
       "      <td>178</td>\n",
       "      <td>The Good, the Bad and the Ugly</td>\n",
       "      <td>1966</td>\n",
       "    </tr>\n",
       "  </tbody>\n",
       "</table>\n",
       "</div>"
      ],
      "text/plain": [
       "   duration                           title  year\n",
       "0       175                   The Godfather  1972\n",
       "1       195                Schindler's List  1993\n",
       "2        96                    12 Angry Men  1957\n",
       "3       116               Life Is Beautiful  1997\n",
       "4       178  The Good, the Bad and the Ugly  1966"
      ]
     },
     "execution_count": 5,
     "metadata": {},
     "output_type": "execute_result"
    }
   ],
   "source": [
    "movies_df.head()"
   ]
  },
  {
   "cell_type": "code",
   "execution_count": 6,
   "metadata": {},
   "outputs": [
    {
     "name": "stdout",
     "output_type": "stream",
     "text": [
      "['The Godfather', \"Schindler's List\"]\n"
     ]
    }
   ],
   "source": [
    "movies_dict = {'title': [], 'duration': [], 'year': []}\n",
    "for movie in soup.find_all(\"div\", class_=\"lister-item-content\"):\n",
    "    movies_dict['title'].append(movie.find(\"h3\").find(\"a\").string)\n",
    "    movies_dict['duration'].append(int(movie.find(class_=\"runtime\").string.strip(' min')))\n",
    "    movies_dict['year'].append(int(re.search(r\"\\d{4}\", movie.find(class_=\"lister-item-year\").string).group(0)))\n",
    "print(movies_dict['title'][0:2])"
   ]
  },
  {
   "cell_type": "code",
   "execution_count": 7,
   "metadata": {},
   "outputs": [
    {
     "data": {
      "text/plain": [
       "{'title': ['The Godfather',\n",
       "  \"Schindler's List\",\n",
       "  '12 Angry Men',\n",
       "  'Life Is Beautiful',\n",
       "  'The Good, the Bad and the Ugly',\n",
       "  'The Shawshank Redemption',\n",
       "  'The Pursuit of Happyness',\n",
       "  'Seven Samurai',\n",
       "  'The Intouchables',\n",
       "  'Central Station',\n",
       "  'Requiem for a Dream',\n",
       "  'A Beautiful Mind',\n",
       "  \"Hachi: A Dog's Tale\",\n",
       "  'Taken',\n",
       "  'My Sassy Girl',\n",
       "  'Amores Perros',\n",
       "  'The Shining',\n",
       "  'Apocalypto',\n",
       "  'Gladiator',\n",
       "  'Cast Away',\n",
       "  'The Dark Knight',\n",
       "  'The Pianist',\n",
       "  'Titanic',\n",
       "  '3-Iron',\n",
       "  'Braveheart',\n",
       "  \"It's a Wonderful Life\",\n",
       "  'Spring, Summer, Fall, Winter... and Spring',\n",
       "  'Alien',\n",
       "  'Memories of Murder',\n",
       "  'The Return',\n",
       "  'I Saw the Devil',\n",
       "  'Children of Heaven',\n",
       "  'A Separation',\n",
       "  'The Sixth Sense',\n",
       "  'A Moment to Remember',\n",
       "  'Departures',\n",
       "  'The Road Home',\n",
       "  'Saving Private Ryan',\n",
       "  'The Bridge on the River Kwai',\n",
       "  'Ben-Hur',\n",
       "  'The Exorcist',\n",
       "  'The Secret in Their Eyes',\n",
       "  'Léon: The Professional',\n",
       "  'The Green Mile',\n",
       "  'Gran Torino',\n",
       "  'Kill Bill: Vol. 1',\n",
       "  'Jurassic Park',\n",
       "  'Terminator 2: Judgment Day',\n",
       "  'Back to the Future',\n",
       "  'Finding Nemo'],\n",
       " 'duration': [175,\n",
       "  195,\n",
       "  96,\n",
       "  116,\n",
       "  178,\n",
       "  142,\n",
       "  117,\n",
       "  207,\n",
       "  112,\n",
       "  110,\n",
       "  102,\n",
       "  135,\n",
       "  93,\n",
       "  90,\n",
       "  137,\n",
       "  154,\n",
       "  146,\n",
       "  139,\n",
       "  155,\n",
       "  143,\n",
       "  152,\n",
       "  150,\n",
       "  194,\n",
       "  88,\n",
       "  178,\n",
       "  130,\n",
       "  103,\n",
       "  117,\n",
       "  132,\n",
       "  110,\n",
       "  144,\n",
       "  89,\n",
       "  123,\n",
       "  107,\n",
       "  144,\n",
       "  130,\n",
       "  89,\n",
       "  169,\n",
       "  161,\n",
       "  212,\n",
       "  122,\n",
       "  129,\n",
       "  110,\n",
       "  189,\n",
       "  116,\n",
       "  111,\n",
       "  127,\n",
       "  137,\n",
       "  116,\n",
       "  100],\n",
       " 'year': [1972,\n",
       "  1993,\n",
       "  1957,\n",
       "  1997,\n",
       "  1966,\n",
       "  1994,\n",
       "  2006,\n",
       "  1954,\n",
       "  2011,\n",
       "  1998,\n",
       "  2000,\n",
       "  2001,\n",
       "  2009,\n",
       "  2008,\n",
       "  2001,\n",
       "  2000,\n",
       "  1980,\n",
       "  2006,\n",
       "  2000,\n",
       "  2000,\n",
       "  2008,\n",
       "  2002,\n",
       "  1997,\n",
       "  2004,\n",
       "  1995,\n",
       "  1946,\n",
       "  2003,\n",
       "  1979,\n",
       "  2003,\n",
       "  2003,\n",
       "  2010,\n",
       "  1997,\n",
       "  2011,\n",
       "  1999,\n",
       "  2004,\n",
       "  2008,\n",
       "  1999,\n",
       "  1998,\n",
       "  1957,\n",
       "  1959,\n",
       "  1973,\n",
       "  2009,\n",
       "  1994,\n",
       "  1999,\n",
       "  2008,\n",
       "  2003,\n",
       "  1993,\n",
       "  1991,\n",
       "  1985,\n",
       "  2003]}"
      ]
     },
     "execution_count": 7,
     "metadata": {},
     "output_type": "execute_result"
    }
   ],
   "source": [
    "movies_dict"
   ]
  },
  {
   "cell_type": "code",
   "execution_count": 8,
   "metadata": {},
   "outputs": [
    {
     "data": {
      "text/html": [
       "<div>\n",
       "<style scoped>\n",
       "    .dataframe tbody tr th:only-of-type {\n",
       "        vertical-align: middle;\n",
       "    }\n",
       "\n",
       "    .dataframe tbody tr th {\n",
       "        vertical-align: top;\n",
       "    }\n",
       "\n",
       "    .dataframe thead th {\n",
       "        text-align: right;\n",
       "    }\n",
       "</style>\n",
       "<table border=\"1\" class=\"dataframe\">\n",
       "  <thead>\n",
       "    <tr style=\"text-align: right;\">\n",
       "      <th></th>\n",
       "      <th>title</th>\n",
       "      <th>duration</th>\n",
       "      <th>year</th>\n",
       "    </tr>\n",
       "  </thead>\n",
       "  <tbody>\n",
       "    <tr>\n",
       "      <th>0</th>\n",
       "      <td>The Godfather</td>\n",
       "      <td>175</td>\n",
       "      <td>1972</td>\n",
       "    </tr>\n",
       "    <tr>\n",
       "      <th>1</th>\n",
       "      <td>Schindler's List</td>\n",
       "      <td>195</td>\n",
       "      <td>1993</td>\n",
       "    </tr>\n",
       "    <tr>\n",
       "      <th>2</th>\n",
       "      <td>12 Angry Men</td>\n",
       "      <td>96</td>\n",
       "      <td>1957</td>\n",
       "    </tr>\n",
       "    <tr>\n",
       "      <th>3</th>\n",
       "      <td>Life Is Beautiful</td>\n",
       "      <td>116</td>\n",
       "      <td>1997</td>\n",
       "    </tr>\n",
       "    <tr>\n",
       "      <th>4</th>\n",
       "      <td>The Good, the Bad and the Ugly</td>\n",
       "      <td>178</td>\n",
       "      <td>1966</td>\n",
       "    </tr>\n",
       "  </tbody>\n",
       "</table>\n",
       "</div>"
      ],
      "text/plain": [
       "                            title  duration  year\n",
       "0                   The Godfather       175  1972\n",
       "1                Schindler's List       195  1993\n",
       "2                    12 Angry Men        96  1957\n",
       "3               Life Is Beautiful       116  1997\n",
       "4  The Good, the Bad and the Ugly       178  1966"
      ]
     },
     "execution_count": 8,
     "metadata": {},
     "output_type": "execute_result"
    }
   ],
   "source": [
    "movies_df2 = pd.DataFrame.from_dict(movies_dict)\n",
    "movies_df2.head()"
   ]
  },
  {
   "cell_type": "code",
   "execution_count": 9,
   "metadata": {},
   "outputs": [],
   "source": [
    "import imdb"
   ]
  },
  {
   "cell_type": "code",
   "execution_count": 10,
   "metadata": {},
   "outputs": [
    {
     "name": "stdout",
     "output_type": "stream",
     "text": [
      "Parsing page 1...\n",
      "Parsing page 2...\n",
      "Parsing page 3...\n",
      "Parsing page 4...\n",
      "Parsing page 5...\n",
      "Done\n"
     ]
    }
   ],
   "source": [
    "all_movies = []\n",
    "for page in range(5):\n",
    "    print(f\"Parsing page {page + 1}...\")\n",
    "    soup = imdb.fetch_page(page)\n",
    "    all_movies += imdb.parse_movies(soup)\n",
    "print(\"Done\")"
   ]
  },
  {
   "cell_type": "code",
   "execution_count": 11,
   "metadata": {},
   "outputs": [],
   "source": [
    "all_movies_df = pd.DataFrame(all_movies)"
   ]
  },
  {
   "cell_type": "code",
   "execution_count": 12,
   "metadata": {},
   "outputs": [
    {
     "data": {
      "text/html": [
       "<div>\n",
       "<style scoped>\n",
       "    .dataframe tbody tr th:only-of-type {\n",
       "        vertical-align: middle;\n",
       "    }\n",
       "\n",
       "    .dataframe tbody tr th {\n",
       "        vertical-align: top;\n",
       "    }\n",
       "\n",
       "    .dataframe thead th {\n",
       "        text-align: right;\n",
       "    }\n",
       "</style>\n",
       "<table border=\"1\" class=\"dataframe\">\n",
       "  <thead>\n",
       "    <tr style=\"text-align: right;\">\n",
       "      <th></th>\n",
       "      <th>duration</th>\n",
       "      <th>title</th>\n",
       "      <th>year</th>\n",
       "    </tr>\n",
       "  </thead>\n",
       "  <tbody>\n",
       "    <tr>\n",
       "      <th>0</th>\n",
       "      <td>142</td>\n",
       "      <td>The Shawshank Redemption</td>\n",
       "      <td>1994</td>\n",
       "    </tr>\n",
       "    <tr>\n",
       "      <th>1</th>\n",
       "      <td>175</td>\n",
       "      <td>The Godfather</td>\n",
       "      <td>1972</td>\n",
       "    </tr>\n",
       "    <tr>\n",
       "      <th>2</th>\n",
       "      <td>152</td>\n",
       "      <td>The Dark Knight</td>\n",
       "      <td>2008</td>\n",
       "    </tr>\n",
       "    <tr>\n",
       "      <th>3</th>\n",
       "      <td>202</td>\n",
       "      <td>The Godfather: Part II</td>\n",
       "      <td>1974</td>\n",
       "    </tr>\n",
       "    <tr>\n",
       "      <th>4</th>\n",
       "      <td>201</td>\n",
       "      <td>The Lord of the Rings: The Return of the King</td>\n",
       "      <td>2003</td>\n",
       "    </tr>\n",
       "  </tbody>\n",
       "</table>\n",
       "</div>"
      ],
      "text/plain": [
       "   duration                                          title  year\n",
       "0       142                       The Shawshank Redemption  1994\n",
       "1       175                                  The Godfather  1972\n",
       "2       152                                The Dark Knight  2008\n",
       "3       202                         The Godfather: Part II  1974\n",
       "4       201  The Lord of the Rings: The Return of the King  2003"
      ]
     },
     "execution_count": 12,
     "metadata": {},
     "output_type": "execute_result"
    }
   ],
   "source": [
    "all_movies_df.head()"
   ]
  },
  {
   "cell_type": "code",
   "execution_count": 13,
   "metadata": {},
   "outputs": [
    {
     "data": {
      "text/plain": [
       "(250, 3)"
      ]
     },
     "execution_count": 13,
     "metadata": {},
     "output_type": "execute_result"
    }
   ],
   "source": [
    "all_movies_df.shape"
   ]
  },
  {
   "cell_type": "code",
   "execution_count": 15,
   "metadata": {},
   "outputs": [
    {
     "data": {
      "text/plain": [
       "array([[<matplotlib.axes._subplots.AxesSubplot object at 0x11422edd0>,\n",
       "        <matplotlib.axes._subplots.AxesSubplot object at 0x116cba150>]],\n",
       "      dtype=object)"
      ]
     },
     "execution_count": 15,
     "metadata": {},
     "output_type": "execute_result"
    },
    {
     "data": {
      "image/png": "[encoded data removed]",
      "text/plain": [
       "<Figure size 864x288 with 2 Axes>"
      ]
     },
     "metadata": {
      "needs_background": "light"
     },
     "output_type": "display_data"
    }
   ],
   "source": [
    "all_movies_df.hist(grid=False, bins=12, figsize=(12, 4))"
   ]
  },
  {
   "cell_type": "code",
   "execution_count": null,
   "metadata": {},
   "outputs": [],
   "source": []
  }
 ],
 "metadata": {
  "kernelspec": {
   "display_name": "Python 3",
   "language": "python",
   "name": "python3"
  },
  "language_info": {
   "codemirror_mode": {
    "name": "ipython",
    "version": 3
   },
   "file_extension": ".py",
   "mimetype": "text/x-python",
   "name": "python",
   "nbconvert_exporter": "python",
   "pygments_lexer": "ipython3",
   "version": "3.7.7"
  }
 },
 "nbformat": 4,
 "nbformat_minor": 4
}
